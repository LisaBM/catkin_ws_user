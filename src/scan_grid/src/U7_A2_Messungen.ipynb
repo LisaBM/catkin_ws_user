{
 "cells": [
  {
   "cell_type": "code",
   "execution_count": 1,
   "metadata": {
    "collapsed": true
   },
   "outputs": [],
   "source": [
    "b1 = [0]*10\n",
    "b2 = [0]*10\n",
    "m1 = [0]*10\n",
    "m2 = [0]*10\n",
    "\n",
    "#0 Grad:\n",
    "#1. Messung:\n",
    "b1[0] = 0.89143454385\n",
    "m1[0] = -0.0567080934563\n",
    "\n",
    "#2. Messung:\n",
    "b2[0] = 1.08976945094\n",
    "m2[0] = -0.252965866401\n",
    "\n",
    "\n",
    "\n",
    "#10 Grad:\n",
    "#1. Messung:\n",
    "b1[1] =  0.629249260779\n",
    "m1[1] = -0.0337059775206\n",
    "#2. Messung:\n",
    "b2[1] =  1.12058966654\n",
    "m2[1] = -0.342655375139\n",
    "\n",
    "\n",
    "\n",
    "#20 Grad:\n",
    "#1. Messung:\n",
    "b1[2] =  0.62802872173\n",
    "m1[2] = -0.0234924585495\n",
    "\n",
    "#2. Messung:\n",
    "b2[2] =  1.23491360365\n",
    "m2[2] = -0.372628347529\n",
    "\n",
    "\n",
    "\n",
    "#35 Grad:\n",
    "#1. Messung:\n",
    "b1[3] =  0.595058553228\n",
    "m1[3] = -0.040175659683\n",
    "#2. Messung:\n",
    "b2[3] =  1.1823300449\n",
    "m2[3] = -0.296428282796\n",
    "\n",
    "\n",
    "\n",
    "#50 Grad:\n",
    "#1. Messung:\n",
    "b1[4] =  0.429986950956\n",
    "m1[4] = -0.0487454781745\n",
    "\n",
    "#2. Messung:\n",
    "b2[4] =  1.17639550025\n",
    "m2[4] = -0.221397485347\n",
    "\n",
    "\n",
    "\n",
    "#70 Grad:\n",
    "#1. Messung:\n",
    "b1[5] =  0.548720555926\n",
    "m1[5] = -0.0333419208802\n",
    "\n",
    "#2. Messung:\n",
    "b2[5] =  1.2886599625\n",
    "m2[5] = 0.0655069282729\n",
    "\n",
    "\n",
    "\n",
    "#85 Grad:\n",
    "#1. Messung:\n",
    "b1[6] =  0.545284295379\n",
    "m1[6] = -0.0220328967858\n",
    "\n",
    "#2. Messung:\n",
    "b2[6] =  1.38503655195\n",
    "m2[6] = 0.313326196466\n",
    "\n",
    "\n",
    "\n",
    "#100 Grad:\n",
    "#1. Messung:\n",
    "b1[7] =  0.72\n",
    "m1[7] = 0.0\n",
    "\n",
    "#2. Messung:\n",
    "b2[7] =  1.41065204481\n",
    "m2[7] =  0.475911513887\n",
    "\n",
    "\n",
    "\n",
    "#110 Grad:\n",
    "#1. Messung:\n",
    "b1[8] =  0.738212280646\n",
    "m1[8] =  -0.0196358022747\n",
    "\n",
    "#2. Messung:\n",
    "b2[8] =  1.42436820805\n",
    "m2[8] = 0.528553199231\n",
    "\n",
    "\n",
    "\n",
    "#120 Grad:\n",
    "#1. Messung:\n",
    "b1[9] =  0.738286564827\n",
    "m1[9] = -0.0779481349802\n",
    "\n",
    "#2. Messung:\n",
    "b2[9] =  1.40385971671\n",
    "m2[9] = 0.560467567661\n",
    "\n",
    "\n",
    "#Laser nach vorne: 16 cm\n",
    "#    nach hinten 10 cm\n",
    "l1 = .16\n",
    "l2 = .1"
   ]
  },
  {
   "cell_type": "code",
   "execution_count": 50,
   "metadata": {
    "collapsed": true
   },
   "outputs": [],
   "source": [
    "from math import atan, sin, pi, acos, cos\n",
    "import matplotlib.pyplot as plt\n",
    "%matplotlib inline"
   ]
  },
  {
   "cell_type": "code",
   "execution_count": 78,
   "metadata": {
    "collapsed": true
   },
   "outputs": [],
   "source": [
    "def get_dist(m,b):\n",
    "    return b*(m**2 +1)**(-.5)\n",
    "\n",
    "def get_rad(d1, d2, theta, beta1):\n",
    "    #return (d2-d1)/(sin(theta))\n",
    "    return (d2-d1)/(2*cos(theta/2+beta1)*sin(theta/2))\n",
    "\n",
    "def get_theta(m1, m2):\n",
    "    return atan((m2-m1))\n",
    "\n",
    "def get_alpha(l, R):          #check\n",
    "    return pi/2-acos(l/float(R))\n",
    "\n",
    "def steering_angle(l1, l2, R, alpha):\n",
    "    #return atan((l1+l2)/ ( R**2 + l1**2 + 2*l1*R*sin(alpha) )**(.5))\n",
    "    return pi/2-acos((l1+R*sin(alpha))/ ( R**2 + l1**2 + 2*l1*R*sin(alpha) )**(.5))"
   ]
  },
  {
   "cell_type": "code",
   "execution_count": 149,
   "metadata": {},
   "outputs": [
    {
     "name": "stdout",
     "output_type": "stream",
     "text": [
      "-0.115107888698\n",
      "-0.0681233111535\n",
      "-0.0620465078627\n",
      "-0.0458002917322\n",
      "-0.0235346477964\n",
      "0.0133533467086\n",
      "0.0410947493002\n",
      "0.07768000058\n",
      "0.0928055314138\n",
      "0.11254068041\n",
      "[-0.8706716230127264, -1.469062302294932, -1.6127288238383666, -2.1841557310342115, -4.249446721669452, 7.488981909074883, 2.4340859491017572, 1.2886282158297426, 1.0790702948941806, 0.8904460328834042]\n",
      "[16.731269763506052, 10.059343137707568, 9.175633465907444, 6.795554656228491, 3.5022127272647348, 1.988554474344972, 6.102116667548211, 11.440728443329201, 13.603467436068703, 16.375287191610113]\n"
     ]
    }
   ],
   "source": [
    "R_list = [0]*10\n",
    "sa_list = [0]*10\n",
    "\n",
    "for k in range(10):\n",
    "    d1 = get_dist(m1[k], b1[k])\n",
    "    d2 = get_dist(m2[k], b2[k])\n",
    "    beta1 = atan(m1[k])\n",
    "    R_list[k] = (get_rad(d1, d2, get_theta(m1[k], m2[k]), beta1))\n",
    "    alpha = get_alpha(l2, R_list[k])\n",
    "    print(alpha)\n",
    "    sa_list[k] = 360/(2*pi)*steering_angle(l1, l2, R_list[k], alpha)\n",
    "    \n",
    "print(R_list)\n",
    "print(sa_list)"
   ]
  },
  {
   "cell_type": "code",
   "execution_count": 150,
   "metadata": {
    "scrolled": true
   },
   "outputs": [
    {
     "data": {
      "text/plain": [
       "958.6311433437438"
      ]
     },
     "execution_count": 150,
     "metadata": {},
     "output_type": "execute_result"
    }
   ],
   "source": [
    "360/(2*pi)*sa_list[0]"
   ]
  },
  {
   "cell_type": "code",
   "execution_count": 159,
   "metadata": {},
   "outputs": [],
   "source": [
    "eingestellte_winkel = [0, 10, 20, 35, 50, 70, 85, 100,110, 120]\n",
    "for i in range(5,10):\n",
    "    sa_list[i] *= -1"
   ]
  },
  {
   "cell_type": "code",
   "execution_count": 164,
   "metadata": {},
   "outputs": [
    {
     "data": {
      "text/plain": [
       "[<matplotlib.lines.Line2D at 0x7f9cd86a9e90>,\n",
       " <matplotlib.lines.Line2D at 0x7f9cd86c90d0>]"
      ]
     },
     "execution_count": 164,
     "metadata": {},
     "output_type": "execute_result"
    },
    {
     "data": {
      "image/png": "[encoded data removed]",
      "text/plain": [
       "<matplotlib.figure.Figure at 0x7f9cd87d0b90>"
      ]
     },
     "metadata": {},
     "output_type": "display_data"
    }
   ],
   "source": [
    "\n",
    "    \n",
    "x = np.linspace(-20, 20, 50)    \n",
    "plt.plot(sa_list, eingestellte_winkel, x, -3.8*x+60)"
   ]
  },
  {
   "cell_type": "code",
   "execution_count": 153,
   "metadata": {
    "collapsed": true
   },
   "outputs": [],
   "source": [
    "from sklearn.linear_model import RANSACRegressor\n",
    "import numpy as np"
   ]
  },
  {
   "cell_type": "code",
   "execution_count": 161,
   "metadata": {},
   "outputs": [
    {
     "name": "stdout",
     "output_type": "stream",
     "text": [
      "[16.731269763506052, 10.059343137707568, 9.175633465907444, 6.795554656228491, 3.5022127272647348, -1.988554474344972, -6.102116667548211, -11.440728443329201, -13.603467436068703, -16.375287191610113]\n"
     ]
    }
   ],
   "source": [
    "sa_list2 = np.delete(sa_list,8)\n",
    "sa_list3 =  np.reshape(sa_list2, (np.shape(sa_list2)[0], 1))\n",
    "print(sa_list)\n",
    "eingestellte_winkel2 = np.array( [0, 10, 20, 35, 50, 70, 85, 100, 120])\n",
    "\n",
    "\n",
    "reg = RANSACRegressor()\n",
    "\n",
    "#print(np.delete(sa_list,8), eingestellte_winkel)\n",
    "\n",
    "reg.fit(sa_list3, eingestellte_winkel2)\n",
    "b = reg.predict([[-20], [20  ]])\n",
    "#m = reg.predict([[333/2+1]])[0] - b\n",
    "#b_meter = b*res"
   ]
  },
  {
   "cell_type": "code",
   "execution_count": 162,
   "metadata": {},
   "outputs": [
    {
     "data": {
      "text/plain": [
       "array([ 135.17169455,  -17.49807919])"
      ]
     },
     "execution_count": 162,
     "metadata": {},
     "output_type": "execute_result"
    }
   ],
   "source": [
    "b"
   ]
  },
  {
   "cell_type": "code",
   "execution_count": 163,
   "metadata": {},
   "outputs": [
    {
     "data": {
      "text/plain": [
       "3.8"
      ]
     },
     "execution_count": 163,
     "metadata": {},
     "output_type": "execute_result"
    }
   ],
   "source": [
    "152./40"
   ]
  },
  {
   "cell_type": "code",
   "execution_count": null,
   "metadata": {
    "collapsed": true
   },
   "outputs": [],
   "source": []
  }
 ],
 "metadata": {
  "kernelspec": {
   "display_name": "Python 2",
   "language": "python",
   "name": "python2"
  },
  "language_info": {
   "codemirror_mode": {
    "name": "ipython",
    "version": 2
   },
   "file_extension": ".py",
   "mimetype": "text/x-python",
   "name": "python",
   "nbconvert_exporter": "python",
   "pygments_lexer": "ipython2",
   "version": "2.7.12"
  }
 },
 "nbformat": 4,
 "nbformat_minor": 2
}
